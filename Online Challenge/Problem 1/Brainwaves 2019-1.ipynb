{
 "cells": [
  {
   "cell_type": "code",
   "execution_count": 1,
   "metadata": {},
   "outputs": [],
   "source": [
    "import pandas as pd\n",
    "import numpy as np\n",
    "import warnings\n",
    "warnings.filterwarnings('ignore')\n",
    "from sklearn.feature_extraction.text import TfidfVectorizer\n",
    "from sklearn.linear_model import LogisticRegression\n",
    "from sklearn.model_selection import cross_val_score\n",
    "from scipy.sparse import hstack\n",
    "import os \n",
    "os.chdir(\"D:/Downloads/Brainwaves/1\")\n",
    "#os.listdir()"
   ]
  },
  {
   "cell_type": "code",
   "execution_count": 2,
   "metadata": {},
   "outputs": [],
   "source": [
    "Train=pd.read_csv(\"converted_data_train.csv\")\n",
    "Test=pd.read_csv(\"converted_data_test.csv\")"
   ]
  },
  {
   "cell_type": "code",
   "execution_count": 3,
   "metadata": {},
   "outputs": [
    {
     "data": {
      "text/html": [
       "<div>\n",
       "<style scoped>\n",
       "    .dataframe tbody tr th:only-of-type {\n",
       "        vertical-align: middle;\n",
       "    }\n",
       "\n",
       "    .dataframe tbody tr th {\n",
       "        vertical-align: top;\n",
       "    }\n",
       "\n",
       "    .dataframe thead th {\n",
       "        text-align: right;\n",
       "    }\n",
       "</style>\n",
       "<table border=\"1\" class=\"dataframe\">\n",
       "  <thead>\n",
       "    <tr style=\"text-align: right;\">\n",
       "      <th></th>\n",
       "      <th>Complaint-ID</th>\n",
       "      <th>Date-received</th>\n",
       "      <th>Transaction-Type</th>\n",
       "      <th>Complaint-reason</th>\n",
       "      <th>Company-response</th>\n",
       "      <th>Date-sent-to-company</th>\n",
       "      <th>Complaint-Status</th>\n",
       "      <th>Consumer-disputes</th>\n",
       "      <th>Consumer-complaint-summary</th>\n",
       "      <th>converted_text</th>\n",
       "      <th>convertion_language</th>\n",
       "    </tr>\n",
       "  </thead>\n",
       "  <tbody>\n",
       "    <tr>\n",
       "      <th>0</th>\n",
       "      <td>Tr-1</td>\n",
       "      <td>11/11/2015</td>\n",
       "      <td>Mortgage</td>\n",
       "      <td>Loan servicing, payments, escrow account</td>\n",
       "      <td>NaN</td>\n",
       "      <td>11/11/2015</td>\n",
       "      <td>Closed with explanation</td>\n",
       "      <td>Yes</td>\n",
       "      <td>Seterus, Inc a déposé un faux rapport auprès d...</td>\n",
       "      <td>Seterus, Inc. filed a false report with the ma...</td>\n",
       "      <td>fr</td>\n",
       "    </tr>\n",
       "    <tr>\n",
       "      <th>1</th>\n",
       "      <td>Tr-2</td>\n",
       "      <td>7/7/2015</td>\n",
       "      <td>Credit reporting</td>\n",
       "      <td>Incorrect information on credit report</td>\n",
       "      <td>Company chooses not to provide a public response</td>\n",
       "      <td>7/7/2015</td>\n",
       "      <td>Closed with non-monetary relief</td>\n",
       "      <td>No</td>\n",
       "      <td>XX / XX / XXXX La requête en faillite n ° XXXX...</td>\n",
       "      <td>XX / XX / XXXX Bankruptcy Claim XXXX of Chapte...</td>\n",
       "      <td>fr</td>\n",
       "    </tr>\n",
       "    <tr>\n",
       "      <th>2</th>\n",
       "      <td>Tr-3</td>\n",
       "      <td>5/7/2015</td>\n",
       "      <td>Bank account or service</td>\n",
       "      <td>Using a debit or ATM card</td>\n",
       "      <td>NaN</td>\n",
       "      <td>5/7/2015</td>\n",
       "      <td>Closed with explanation</td>\n",
       "      <td>No</td>\n",
       "      <td>El XXXX / XXXX / 15, estaba preparando el vuel...</td>\n",
       "      <td>XXXX / XXXX / 15, I was preparing the flight b...</td>\n",
       "      <td>es</td>\n",
       "    </tr>\n",
       "    <tr>\n",
       "      <th>3</th>\n",
       "      <td>Tr-4</td>\n",
       "      <td>11/12/2016</td>\n",
       "      <td>Debt collection</td>\n",
       "      <td>Cont'd attempts collect debt not owed</td>\n",
       "      <td>Company believes it acted appropriately as aut...</td>\n",
       "      <td>11/12/2016</td>\n",
       "      <td>Closed with explanation</td>\n",
       "      <td>No</td>\n",
       "      <td>The loan was paid in XXXX XXXX. In XXXX, 4 yea...</td>\n",
       "      <td>The loan was paid in XXXX XXXX. In XXXX, 4 yea...</td>\n",
       "      <td>en</td>\n",
       "    </tr>\n",
       "    <tr>\n",
       "      <th>4</th>\n",
       "      <td>Tr-5</td>\n",
       "      <td>9/29/2016</td>\n",
       "      <td>Credit card</td>\n",
       "      <td>Payoff process</td>\n",
       "      <td>Company has responded to the consumer and the ...</td>\n",
       "      <td>9/29/2016</td>\n",
       "      <td>Closed with explanation</td>\n",
       "      <td>No</td>\n",
       "      <td>J'ai obtenu un compte de crédit de soins pour ...</td>\n",
       "      <td>I got a care credit account for XXXX. Immediat...</td>\n",
       "      <td>fr</td>\n",
       "    </tr>\n",
       "  </tbody>\n",
       "</table>\n",
       "</div>"
      ],
      "text/plain": [
       "  Complaint-ID Date-received         Transaction-Type  \\\n",
       "0         Tr-1    11/11/2015                 Mortgage   \n",
       "1         Tr-2      7/7/2015         Credit reporting   \n",
       "2         Tr-3      5/7/2015  Bank account or service   \n",
       "3         Tr-4    11/12/2016          Debt collection   \n",
       "4         Tr-5     9/29/2016              Credit card   \n",
       "\n",
       "                           Complaint-reason  \\\n",
       "0  Loan servicing, payments, escrow account   \n",
       "1    Incorrect information on credit report   \n",
       "2                 Using a debit or ATM card   \n",
       "3     Cont'd attempts collect debt not owed   \n",
       "4                            Payoff process   \n",
       "\n",
       "                                    Company-response Date-sent-to-company  \\\n",
       "0                                                NaN           11/11/2015   \n",
       "1   Company chooses not to provide a public response             7/7/2015   \n",
       "2                                                NaN             5/7/2015   \n",
       "3  Company believes it acted appropriately as aut...           11/12/2016   \n",
       "4  Company has responded to the consumer and the ...            9/29/2016   \n",
       "\n",
       "                  Complaint-Status Consumer-disputes  \\\n",
       "0          Closed with explanation               Yes   \n",
       "1  Closed with non-monetary relief                No   \n",
       "2          Closed with explanation                No   \n",
       "3          Closed with explanation                No   \n",
       "4          Closed with explanation                No   \n",
       "\n",
       "                          Consumer-complaint-summary  \\\n",
       "0  Seterus, Inc a déposé un faux rapport auprès d...   \n",
       "1  XX / XX / XXXX La requête en faillite n ° XXXX...   \n",
       "2  El XXXX / XXXX / 15, estaba preparando el vuel...   \n",
       "3  The loan was paid in XXXX XXXX. In XXXX, 4 yea...   \n",
       "4  J'ai obtenu un compte de crédit de soins pour ...   \n",
       "\n",
       "                                      converted_text convertion_language  \n",
       "0  Seterus, Inc. filed a false report with the ma...                  fr  \n",
       "1  XX / XX / XXXX Bankruptcy Claim XXXX of Chapte...                  fr  \n",
       "2  XXXX / XXXX / 15, I was preparing the flight b...                  es  \n",
       "3  The loan was paid in XXXX XXXX. In XXXX, 4 yea...                  en  \n",
       "4  I got a care credit account for XXXX. Immediat...                  fr  "
      ]
     },
     "execution_count": 3,
     "metadata": {},
     "output_type": "execute_result"
    }
   ],
   "source": [
    "Train.head()"
   ]
  },
  {
   "cell_type": "code",
   "execution_count": 4,
   "metadata": {},
   "outputs": [],
   "source": [
    "df=Train.append(Test)\n",
    "df=Train.copy()"
   ]
  },
  {
   "cell_type": "code",
   "execution_count": 5,
   "metadata": {},
   "outputs": [],
   "source": [
    "df=df[['Complaint-Status','converted_text']]\n",
    "df.fillna('Missing',inplace=True)"
   ]
  },
  {
   "cell_type": "code",
   "execution_count": 6,
   "metadata": {},
   "outputs": [],
   "source": [
    "df['Complaint_id'] = df['Complaint-Status'].factorize()[0]\n",
    "from io import StringIO\n",
    "category_id_df = df[['Complaint-Status', 'Complaint_id']].drop_duplicates().sort_values('Complaint_id')\n",
    "category_to_id = dict(category_id_df.values)\n",
    "id_to_category = dict(category_id_df[['Complaint_id', 'Complaint-Status']].values)"
   ]
  },
  {
   "cell_type": "code",
   "execution_count": 7,
   "metadata": {},
   "outputs": [
    {
     "data": {
      "text/plain": [
       "Closed with explanation            34300\n",
       "Closed with non-monetary relief     5018\n",
       "Closed with monetary relief         2818\n",
       "Closed                               809\n",
       "Untimely response                    321\n",
       "Name: Complaint-Status, dtype: int64"
      ]
     },
     "execution_count": 7,
     "metadata": {},
     "output_type": "execute_result"
    }
   ],
   "source": [
    "df['Complaint-Status'].value_counts()"
   ]
  },
  {
   "cell_type": "code",
   "execution_count": 8,
   "metadata": {},
   "outputs": [
    {
     "data": {
      "text/html": [
       "<div>\n",
       "<style scoped>\n",
       "    .dataframe tbody tr th:only-of-type {\n",
       "        vertical-align: middle;\n",
       "    }\n",
       "\n",
       "    .dataframe tbody tr th {\n",
       "        vertical-align: top;\n",
       "    }\n",
       "\n",
       "    .dataframe thead th {\n",
       "        text-align: right;\n",
       "    }\n",
       "</style>\n",
       "<table border=\"1\" class=\"dataframe\">\n",
       "  <thead>\n",
       "    <tr style=\"text-align: right;\">\n",
       "      <th></th>\n",
       "      <th>Complaint-Status</th>\n",
       "      <th>converted_text</th>\n",
       "      <th>Complaint_id</th>\n",
       "    </tr>\n",
       "  </thead>\n",
       "  <tbody>\n",
       "    <tr>\n",
       "      <th>0</th>\n",
       "      <td>Closed with explanation</td>\n",
       "      <td>Seterus, Inc. filed a false report with the ma...</td>\n",
       "      <td>0</td>\n",
       "    </tr>\n",
       "    <tr>\n",
       "      <th>1</th>\n",
       "      <td>Closed with non-monetary relief</td>\n",
       "      <td>XX / XX / XXXX Bankruptcy Claim XXXX of Chapte...</td>\n",
       "      <td>1</td>\n",
       "    </tr>\n",
       "    <tr>\n",
       "      <th>2</th>\n",
       "      <td>Closed with explanation</td>\n",
       "      <td>XXXX / XXXX / 15, I was preparing the flight b...</td>\n",
       "      <td>0</td>\n",
       "    </tr>\n",
       "    <tr>\n",
       "      <th>3</th>\n",
       "      <td>Closed with explanation</td>\n",
       "      <td>The loan was paid in XXXX XXXX. In XXXX, 4 yea...</td>\n",
       "      <td>0</td>\n",
       "    </tr>\n",
       "    <tr>\n",
       "      <th>4</th>\n",
       "      <td>Closed with explanation</td>\n",
       "      <td>I got a care credit account for XXXX. Immediat...</td>\n",
       "      <td>0</td>\n",
       "    </tr>\n",
       "  </tbody>\n",
       "</table>\n",
       "</div>"
      ],
      "text/plain": [
       "                  Complaint-Status  \\\n",
       "0          Closed with explanation   \n",
       "1  Closed with non-monetary relief   \n",
       "2          Closed with explanation   \n",
       "3          Closed with explanation   \n",
       "4          Closed with explanation   \n",
       "\n",
       "                                      converted_text  Complaint_id  \n",
       "0  Seterus, Inc. filed a false report with the ma...             0  \n",
       "1  XX / XX / XXXX Bankruptcy Claim XXXX of Chapte...             1  \n",
       "2  XXXX / XXXX / 15, I was preparing the flight b...             0  \n",
       "3  The loan was paid in XXXX XXXX. In XXXX, 4 yea...             0  \n",
       "4  I got a care credit account for XXXX. Immediat...             0  "
      ]
     },
     "execution_count": 8,
     "metadata": {},
     "output_type": "execute_result"
    }
   ],
   "source": [
    "df.head()"
   ]
  },
  {
   "cell_type": "code",
   "execution_count": 9,
   "metadata": {},
   "outputs": [
    {
     "data": {
      "text/plain": [
       "(43266, 1068446)"
      ]
     },
     "execution_count": 9,
     "metadata": {},
     "output_type": "execute_result"
    }
   ],
   "source": [
    "from sklearn.feature_extraction.text import TfidfVectorizer\n",
    "\n",
    "tfidf = TfidfVectorizer(sublinear_tf=True, \n",
    "                        norm='l2', \n",
    "                        encoding='latin-1', \n",
    "                        ngram_range=(1, 2), \n",
    "                        stop_words='english')\n",
    "\n",
    "features = tfidf.fit_transform(df.converted_text)\n",
    "labels = df.Complaint_id\n",
    "features.shape"
   ]
  },
  {
   "cell_type": "code",
   "execution_count": 10,
   "metadata": {},
   "outputs": [
    {
     "data": {
      "text/plain": [
       "0    34300\n",
       "1     5018\n",
       "3     2818\n",
       "2      809\n",
       "4      321\n",
       "Name: Complaint_id, dtype: int64"
      ]
     },
     "execution_count": 10,
     "metadata": {},
     "output_type": "execute_result"
    }
   ],
   "source": [
    "df['Complaint_id'].value_counts()"
   ]
  },
  {
   "cell_type": "code",
   "execution_count": 11,
   "metadata": {},
   "outputs": [
    {
     "name": "stdout",
     "output_type": "stream",
     "text": [
      "# 'Closed':\n",
      "  . Most correlated unigrams:\n",
      "       . fortiva\n",
      "       . scottrade\n",
      "  . Most correlated bigrams:\n",
      "       . scottrade xxxx\n",
      "       . scottrade bank\n",
      "# 'Closed with explanation':\n",
      "  . Most correlated unigrams:\n",
      "       . card\n",
      "       . experian\n",
      "  . Most correlated bigrams:\n",
      "       . rush card\n",
      "       . enhanced recovery\n",
      "# 'Closed with monetary relief':\n",
      "  . Most correlated unigrams:\n",
      "       . fee\n",
      "       . overdraft\n",
      "  . Most correlated bigrams:\n",
      "       . overdraft fee\n",
      "       . 35 00\n",
      "# 'Closed with non-monetary relief':\n",
      "  . Most correlated unigrams:\n",
      "       . midland\n",
      "       . experian\n",
      "  . Most correlated bigrams:\n",
      "       . experian credit\n",
      "       . enhanced recovery\n",
      "# 'Untimely response':\n",
      "  . Most correlated unigrams:\n",
      "       . lhr\n",
      "       . mobiloans\n",
      "  . Most correlated bigrams:\n",
      "       . telling court\n",
      "       . richard sokoloff\n"
     ]
    }
   ],
   "source": [
    "from sklearn.feature_selection import chi2\n",
    "import numpy as np\n",
    "\n",
    "N = 2\n",
    "for Product, category_id in sorted(category_to_id.items()):\n",
    "  features_chi2 = chi2(features, labels == category_id)\n",
    "  indices = np.argsort(features_chi2[0])\n",
    "  feature_names = np.array(tfidf.get_feature_names())[indices]\n",
    "  unigrams = [v for v in feature_names if len(v.split(' ')) == 1]\n",
    "  bigrams = [v for v in feature_names if len(v.split(' ')) == 2]\n",
    "  print(\"# '{}':\".format(Product))\n",
    "  print(\"  . Most correlated unigrams:\\n       . {}\".format('\\n       . '.join(unigrams[-N:])))\n",
    "  print(\"  . Most correlated bigrams:\\n       . {}\".format('\\n       . '.join(bigrams[-N:])))"
   ]
  },
  {
   "cell_type": "code",
   "execution_count": 12,
   "metadata": {},
   "outputs": [],
   "source": [
    "from sklearn.model_selection import train_test_split\n",
    "from sklearn.feature_extraction.text import TfidfTransformer\n",
    "from sklearn.linear_model import LogisticRegression\n",
    "from sklearn.ensemble import RandomForestClassifier\n",
    "from sklearn.naive_bayes import MultinomialNB\n",
    "from sklearn.svm import LinearSVC\n",
    "from sklearn.model_selection import GridSearchCV\n",
    "\n",
    "from sklearn.model_selection import cross_val_score\n",
    "\n",
    "\n",
    "models = [\n",
    "    RandomForestClassifier(n_estimators=200, max_depth=3, random_state=0),\n",
    "    LinearSVC(),\n",
    "    MultinomialNB(),\n",
    "    LogisticRegression(random_state=0),\n",
    "]\n",
    "CV = 5\n",
    "cv_df = pd.DataFrame(index=range(CV * len(models)))\n",
    "entries = []\n",
    "for model in models:\n",
    "  model_name = model.__class__.__name__\n",
    "  accuracies = cross_val_score(model, features, labels, scoring='accuracy', cv=CV)\n",
    "  for fold_idx, accuracy in enumerate(accuracies):\n",
    "    entries.append((model_name, fold_idx, accuracy))\n",
    "cv_df = pd.DataFrame(entries, columns=['model_name', 'fold_idx', 'accuracy'])"
   ]
  },
  {
   "cell_type": "code",
   "execution_count": 13,
   "metadata": {},
   "outputs": [
    {
     "data": {
      "image/png": "[encoded data removed]",
      "text/plain": [
       "<Figure size 432x288 with 1 Axes>"
      ]
     },
     "metadata": {
      "needs_background": "light"
     },
     "output_type": "display_data"
    }
   ],
   "source": [
    "import seaborn as sns\n",
    "import matplotlib.pyplot as plt\n",
    "%matplotlib inline\n",
    "\n",
    "sns.boxplot(x='model_name', y='accuracy', data=cv_df)\n",
    "sns.stripplot(x='model_name', y='accuracy', data=cv_df, \n",
    "              size=8, jitter=True, edgecolor=\"gray\", linewidth=2)\n",
    "plt.show()"
   ]
  },
  {
   "cell_type": "code",
   "execution_count": 14,
   "metadata": {},
   "outputs": [
    {
     "data": {
      "text/plain": [
       "model_name\n",
       "LinearSVC                 0.799404\n",
       "LogisticRegression        0.796977\n",
       "MultinomialNB             0.792770\n",
       "RandomForestClassifier    0.792770\n",
       "Name: accuracy, dtype: float64"
      ]
     },
     "execution_count": 14,
     "metadata": {},
     "output_type": "execute_result"
    }
   ],
   "source": [
    "cv_df.groupby('model_name').accuracy.mean()"
   ]
  },
  {
   "cell_type": "code",
   "execution_count": 15,
   "metadata": {},
   "outputs": [],
   "source": [
    "from sklearn.model_selection import train_test_split\n",
    "\n",
    "model = LinearSVC()\n",
    "\n",
    "X_train, X_test, y_train, y_test, indices_train, indices_test = train_test_split(features, labels, df.index, test_size=0.33, random_state=0)\n",
    "model.fit(X_train, y_train)\n",
    "y_pred = model.predict(X_test)"
   ]
  },
  {
   "cell_type": "code",
   "execution_count": 16,
   "metadata": {},
   "outputs": [
    {
     "data": {
      "image/png": "[encoded data removed]",
      "text/plain": [
       "<Figure size 576x432 with 2 Axes>"
      ]
     },
     "metadata": {
      "needs_background": "light"
     },
     "output_type": "display_data"
    }
   ],
   "source": [
    "from sklearn.metrics import confusion_matrix\n",
    "\n",
    "conf_mat = confusion_matrix(y_test, y_pred)\n",
    "fig, ax = plt.subplots(figsize=(8,6))\n",
    "sns.heatmap(conf_mat, annot=True, fmt='d',\n",
    "            xticklabels=category_id_df['Complaint-Status'].values, yticklabels=category_id_df['Complaint-Status'].values)\n",
    "plt.ylabel('Actual')\n",
    "plt.xlabel('Predicted')\n",
    "plt.show()"
   ]
  },
  {
   "cell_type": "code",
   "execution_count": 17,
   "metadata": {},
   "outputs": [
    {
     "name": "stdout",
     "output_type": "stream",
     "text": [
      "                                 precision    recall  f1-score   support\n",
      "\n",
      "        Closed with explanation       0.81      0.98      0.88     11286\n",
      "Closed with non-monetary relief       0.53      0.09      0.15      1668\n",
      "                         Closed       0.91      0.04      0.07       268\n",
      "    Closed with monetary relief       0.57      0.15      0.23       948\n",
      "              Untimely response       0.00      0.00      0.00       108\n",
      "\n",
      "                      micro avg       0.80      0.80      0.80     14278\n",
      "                      macro avg       0.56      0.25      0.27     14278\n",
      "                   weighted avg       0.75      0.80      0.73     14278\n",
      "\n"
     ]
    }
   ],
   "source": [
    "from sklearn import metrics\n",
    "print(metrics.classification_report(y_test, y_pred, \n",
    "                                    target_names=df['Complaint-Status'].unique()))"
   ]
  },
  {
   "cell_type": "code",
   "execution_count": 18,
   "metadata": {},
   "outputs": [
    {
     "data": {
      "text/plain": [
       "0.7339348823133791"
      ]
     },
     "execution_count": 18,
     "metadata": {},
     "output_type": "execute_result"
    }
   ],
   "source": [
    "from sklearn.metrics import f1_score\n",
    "f1_score(y_test,y_pred,average='weighted')"
   ]
  },
  {
   "cell_type": "code",
   "execution_count": 19,
   "metadata": {},
   "outputs": [],
   "source": [
    "Test.fillna('Missing',inplace=True)\n",
    "test_features = tfidf.transform(Test['converted_text'])"
   ]
  },
  {
   "cell_type": "code",
   "execution_count": 20,
   "metadata": {
    "scrolled": true
   },
   "outputs": [],
   "source": [
    "model.fit(features,labels)\n",
    "predictions = model.predict(test_features)"
   ]
  },
  {
   "cell_type": "code",
   "execution_count": 21,
   "metadata": {},
   "outputs": [],
   "source": [
    "Test=pd.read_csv('converted_data_test.csv')\n",
    "Test=Test[['Complaint-ID','converted_text']]\n",
    "Test['Complaint-Status']=predictions\n",
    "num_map = {0:'Closed with explanation', 1:'Closed with non-monetary relief',2:'Closed',3:'Closed with monetary relief'\\\n",
    "          ,4:'Untimely Response'}\n",
    "\n",
    "Test['Complaint-Status'] = Test['Complaint-Status'].map(num_map)"
   ]
  },
  {
   "cell_type": "code",
   "execution_count": 22,
   "metadata": {},
   "outputs": [],
   "source": [
    "Test=Test[['Complaint-ID','Complaint-Status']]"
   ]
  },
  {
   "cell_type": "code",
   "execution_count": 23,
   "metadata": {},
   "outputs": [
    {
     "data": {
      "text/plain": [
       "<43266x1068446 sparse matrix of type '<class 'numpy.float64'>'\n",
       "\twith 5522920 stored elements in Compressed Sparse Row format>"
      ]
     },
     "execution_count": 23,
     "metadata": {},
     "output_type": "execute_result"
    }
   ],
   "source": [
    "features"
   ]
  },
  {
   "cell_type": "code",
   "execution_count": 25,
   "metadata": {},
   "outputs": [
    {
     "data": {
      "text/html": [
       "<div>\n",
       "<style scoped>\n",
       "    .dataframe tbody tr th:only-of-type {\n",
       "        vertical-align: middle;\n",
       "    }\n",
       "\n",
       "    .dataframe tbody tr th {\n",
       "        vertical-align: top;\n",
       "    }\n",
       "\n",
       "    .dataframe thead th {\n",
       "        text-align: right;\n",
       "    }\n",
       "</style>\n",
       "<table border=\"1\" class=\"dataframe\">\n",
       "  <thead>\n",
       "    <tr style=\"text-align: right;\">\n",
       "      <th></th>\n",
       "      <th>Complaint-ID</th>\n",
       "      <th>Date-received</th>\n",
       "      <th>Transaction-Type</th>\n",
       "      <th>Complaint-reason</th>\n",
       "      <th>Company-response</th>\n",
       "      <th>Date-sent-to-company</th>\n",
       "      <th>Consumer-disputes</th>\n",
       "      <th>Consumer-complaint-summary</th>\n",
       "      <th>converted_text</th>\n",
       "      <th>convertion_language</th>\n",
       "    </tr>\n",
       "  </thead>\n",
       "  <tbody>\n",
       "    <tr>\n",
       "      <th>0</th>\n",
       "      <td>Tr-1</td>\n",
       "      <td>11/11/2015</td>\n",
       "      <td>Mortgage</td>\n",
       "      <td>Loan servicing, payments, escrow account</td>\n",
       "      <td>NaN</td>\n",
       "      <td>11/11/2015</td>\n",
       "      <td>Yes</td>\n",
       "      <td>Seterus, Inc a déposé un faux rapport auprès d...</td>\n",
       "      <td>Seterus, Inc. filed a false report with the ma...</td>\n",
       "      <td>fr</td>\n",
       "    </tr>\n",
       "  </tbody>\n",
       "</table>\n",
       "</div>"
      ],
      "text/plain": [
       "  Complaint-ID Date-received Transaction-Type  \\\n",
       "0         Tr-1    11/11/2015         Mortgage   \n",
       "\n",
       "                           Complaint-reason Company-response  \\\n",
       "0  Loan servicing, payments, escrow account              NaN   \n",
       "\n",
       "  Date-sent-to-company Consumer-disputes  \\\n",
       "0           11/11/2015               Yes   \n",
       "\n",
       "                          Consumer-complaint-summary  \\\n",
       "0  Seterus, Inc a déposé un faux rapport auprès d...   \n",
       "\n",
       "                                      converted_text convertion_language  \n",
       "0  Seterus, Inc. filed a false report with the ma...                  fr  "
      ]
     },
     "execution_count": 25,
     "metadata": {},
     "output_type": "execute_result"
    }
   ],
   "source": [
    "Train=pd.read_csv(\"converted_data_train.csv\")\n",
    "\n",
    "#Over-sampling the dataset by doubling the lower classes \n",
    "\n",
    "df=Train.copy()\n",
    "df1=df[df['Complaint-Status']=='Closed with explanation'].reset_index(drop=True)\n",
    "df2=df[df['Complaint-Status']!='Closed with explanation'].reset_index(drop=True)\n",
    "df3=df[df['Complaint-Status']=='Untimely Response'].reset_index(drop=True)\n",
    "df4=df[df['Complaint-Status']=='Closed'].reset_index(drop=True)\n",
    "\n",
    "df=pd.concat([df1,df2,df2],axis=0)\n",
    "df.reset_index(inplace=True,drop=True)\n",
    "\n",
    "Train=df.copy()\n",
    "Train['converted_text'].fillna('Missing',inplace=True)\n",
    "\n",
    "features = tfidf.fit_transform(Train.converted_text)\n",
    "\n",
    "Test=pd.read_csv(\"converted_data_test.csv\")\n",
    "Test['converted_text'].fillna('Missing',inplace=True)\n",
    "\n",
    "features_test = tfidf.transform(Test.converted_text)\n",
    "\n",
    "labels=Train['Complaint-Status']\n",
    "\n",
    "Train.drop(['Complaint-Status'],axis=1,inplace=True)\n",
    "\n",
    "all_data=Train.append(Test)\n",
    "all_data.head(1)"
   ]
  },
  {
   "cell_type": "code",
   "execution_count": 26,
   "metadata": {},
   "outputs": [],
   "source": [
    "all_data['Date-received']=pd.to_datetime(all_data['Date-received'])\n",
    "all_data['Date-sent-to-company']=pd.to_datetime(all_data['Date-sent-to-company'])\n",
    "all_data['diff_days']=(all_data['Date-sent-to-company']-all_data['Date-received']).dt.days\n",
    "all_data['day_of_week'] = all_data['Date-received'].dt.day_name()\n",
    "all_data['recd_month']=all_data['Date-received'].dt.month\n",
    "\n",
    "import string\n",
    "\n",
    "all_data['consumer_summary_n_words']=all_data['Consumer-complaint-summary'].str.count(' ') + 1\n",
    "all_data[\"mean_word_len\"] = all_data[\"Consumer-complaint-summary\"].apply(lambda x: np.mean([len(w) for w in str(x).split()]))\n",
    "all_data[\"num_unique_words\"] = all_data[\"Consumer-complaint-summary\"].apply(lambda x: len(set(str(x).split())))\n",
    "all_data[\"num_chars\"] = all_data[\"Consumer-complaint-summary\"].apply(lambda x: len(str(x)))\n",
    "all_data[\"num_punctuations\"] =all_data['Consumer-complaint-summary'].apply(lambda x: len([c for c in str(x) if c in string.punctuation]))\n",
    "all_data[\"num_words_upper\"] = all_data[\"Consumer-complaint-summary\"].apply(lambda x: len([w for w in str(x).split() if w.isupper()]))\n",
    "all_data[\"num_words_title\"] = all_data[\"Consumer-complaint-summary\"].apply(lambda x: len([w for w in str(x).split() if w.istitle()]))\n",
    "all_data.drop(['converted_text','Consumer-complaint-summary','Complaint-ID','convertion_language'],axis=1,inplace=True)"
   ]
  },
  {
   "cell_type": "code",
   "execution_count": 27,
   "metadata": {},
   "outputs": [],
   "source": [
    "all_data.drop([\"Date-received\",\"Date-sent-to-company\"],axis=1,inplace=True)\n",
    "num_map = {'Monday':1, 'Tuesday':2,'Wednesday':3,'Thursday':4\\\n",
    "          ,'Friday':5,'Saturday':6,'Sunday': 7}\n",
    "\n",
    "all_data['day_of_week'] = all_data['day_of_week'].map(num_map)"
   ]
  },
  {
   "cell_type": "code",
   "execution_count": 28,
   "metadata": {},
   "outputs": [],
   "source": [
    "all_data[\"Company-response\"]=all_data[\"Company-response\"].fillna(\"Extras\")\n",
    "all_data[\"Consumer-disputes\"]=all_data[\"Consumer-disputes\"].fillna(\"Unknown\")"
   ]
  },
  {
   "cell_type": "code",
   "execution_count": 29,
   "metadata": {},
   "outputs": [],
   "source": [
    "from sklearn.preprocessing import LabelEncoder\n",
    "le1=LabelEncoder()\n",
    "cat_var=[\"Transaction-Type\",\"Complaint-reason\",\"Company-response\",\"Consumer-disputes\"]\n",
    "for vr in cat_var:\n",
    "    all_data[vr]=le1.fit_transform(all_data[vr])"
   ]
  },
  {
   "cell_type": "code",
   "execution_count": 30,
   "metadata": {},
   "outputs": [
    {
     "data": {
      "text/html": [
       "<div>\n",
       "<style scoped>\n",
       "    .dataframe tbody tr th:only-of-type {\n",
       "        vertical-align: middle;\n",
       "    }\n",
       "\n",
       "    .dataframe tbody tr th {\n",
       "        vertical-align: top;\n",
       "    }\n",
       "\n",
       "    .dataframe thead th {\n",
       "        text-align: right;\n",
       "    }\n",
       "</style>\n",
       "<table border=\"1\" class=\"dataframe\">\n",
       "  <thead>\n",
       "    <tr style=\"text-align: right;\">\n",
       "      <th></th>\n",
       "      <th>Transaction-Type</th>\n",
       "      <th>Complaint-reason</th>\n",
       "      <th>Company-response</th>\n",
       "      <th>Consumer-disputes</th>\n",
       "      <th>diff_days</th>\n",
       "      <th>day_of_week</th>\n",
       "      <th>recd_month</th>\n",
       "      <th>consumer_summary_n_words</th>\n",
       "      <th>mean_word_len</th>\n",
       "      <th>num_unique_words</th>\n",
       "      <th>num_chars</th>\n",
       "      <th>num_punctuations</th>\n",
       "      <th>num_words_upper</th>\n",
       "      <th>num_words_title</th>\n",
       "    </tr>\n",
       "  </thead>\n",
       "  <tbody>\n",
       "    <tr>\n",
       "      <th>0</th>\n",
       "      <td>10</td>\n",
       "      <td>79</td>\n",
       "      <td>10</td>\n",
       "      <td>2</td>\n",
       "      <td>0</td>\n",
       "      <td>3</td>\n",
       "      <td>11</td>\n",
       "      <td>77</td>\n",
       "      <td>4.896104</td>\n",
       "      <td>62</td>\n",
       "      <td>453</td>\n",
       "      <td>7</td>\n",
       "      <td>5</td>\n",
       "      <td>4</td>\n",
       "    </tr>\n",
       "  </tbody>\n",
       "</table>\n",
       "</div>"
      ],
      "text/plain": [
       "   Transaction-Type  Complaint-reason  Company-response  Consumer-disputes  \\\n",
       "0                10                79                10                  2   \n",
       "\n",
       "   diff_days  day_of_week  recd_month  consumer_summary_n_words  \\\n",
       "0          0            3          11                        77   \n",
       "\n",
       "   mean_word_len  num_unique_words  num_chars  num_punctuations  \\\n",
       "0       4.896104                62        453                 7   \n",
       "\n",
       "   num_words_upper  num_words_title  \n",
       "0                5                4  "
      ]
     },
     "execution_count": 30,
     "metadata": {},
     "output_type": "execute_result"
    }
   ],
   "source": [
    "all_data.head(1)"
   ]
  },
  {
   "cell_type": "code",
   "execution_count": 31,
   "metadata": {},
   "outputs": [],
   "source": [
    "X_train=all_data[:Train.shape[0]]\n",
    "X_test=all_data[Train.shape[0]:]"
   ]
  },
  {
   "cell_type": "code",
   "execution_count": 32,
   "metadata": {},
   "outputs": [
    {
     "name": "stdout",
     "output_type": "stream",
     "text": [
      "(52232, 14)\n"
     ]
    },
    {
     "data": {
      "text/html": [
       "<div>\n",
       "<style scoped>\n",
       "    .dataframe tbody tr th:only-of-type {\n",
       "        vertical-align: middle;\n",
       "    }\n",
       "\n",
       "    .dataframe tbody tr th {\n",
       "        vertical-align: top;\n",
       "    }\n",
       "\n",
       "    .dataframe thead th {\n",
       "        text-align: right;\n",
       "    }\n",
       "</style>\n",
       "<table border=\"1\" class=\"dataframe\">\n",
       "  <thead>\n",
       "    <tr style=\"text-align: right;\">\n",
       "      <th></th>\n",
       "      <th>Transaction-Type</th>\n",
       "      <th>Complaint-reason</th>\n",
       "      <th>Company-response</th>\n",
       "      <th>Consumer-disputes</th>\n",
       "      <th>diff_days</th>\n",
       "      <th>day_of_week</th>\n",
       "      <th>recd_month</th>\n",
       "      <th>consumer_summary_n_words</th>\n",
       "      <th>mean_word_len</th>\n",
       "      <th>num_unique_words</th>\n",
       "      <th>num_chars</th>\n",
       "      <th>num_punctuations</th>\n",
       "      <th>num_words_upper</th>\n",
       "      <th>num_words_title</th>\n",
       "    </tr>\n",
       "  </thead>\n",
       "  <tbody>\n",
       "    <tr>\n",
       "      <th>52231</th>\n",
       "      <td>3</td>\n",
       "      <td>51</td>\n",
       "      <td>9</td>\n",
       "      <td>0</td>\n",
       "      <td>0</td>\n",
       "      <td>3</td>\n",
       "      <td>3</td>\n",
       "      <td>117</td>\n",
       "      <td>4.033613</td>\n",
       "      <td>82</td>\n",
       "      <td>600</td>\n",
       "      <td>19</td>\n",
       "      <td>10</td>\n",
       "      <td>11</td>\n",
       "    </tr>\n",
       "  </tbody>\n",
       "</table>\n",
       "</div>"
      ],
      "text/plain": [
       "       Transaction-Type  Complaint-reason  Company-response  \\\n",
       "52231                 3                51                 9   \n",
       "\n",
       "       Consumer-disputes  diff_days  day_of_week  recd_month  \\\n",
       "52231                  0          0            3           3   \n",
       "\n",
       "       consumer_summary_n_words  mean_word_len  num_unique_words  num_chars  \\\n",
       "52231                       117       4.033613                82        600   \n",
       "\n",
       "       num_punctuations  num_words_upper  num_words_title  \n",
       "52231                19               10               11  "
      ]
     },
     "execution_count": 32,
     "metadata": {},
     "output_type": "execute_result"
    }
   ],
   "source": [
    "print(X_train.shape)\n",
    "X_train.tail(1)"
   ]
  },
  {
   "cell_type": "code",
   "execution_count": 33,
   "metadata": {},
   "outputs": [
    {
     "name": "stdout",
     "output_type": "stream",
     "text": [
      "(18543, 14)\n"
     ]
    },
    {
     "data": {
      "text/html": [
       "<div>\n",
       "<style scoped>\n",
       "    .dataframe tbody tr th:only-of-type {\n",
       "        vertical-align: middle;\n",
       "    }\n",
       "\n",
       "    .dataframe tbody tr th {\n",
       "        vertical-align: top;\n",
       "    }\n",
       "\n",
       "    .dataframe thead th {\n",
       "        text-align: right;\n",
       "    }\n",
       "</style>\n",
       "<table border=\"1\" class=\"dataframe\">\n",
       "  <thead>\n",
       "    <tr style=\"text-align: right;\">\n",
       "      <th></th>\n",
       "      <th>Transaction-Type</th>\n",
       "      <th>Complaint-reason</th>\n",
       "      <th>Company-response</th>\n",
       "      <th>Consumer-disputes</th>\n",
       "      <th>diff_days</th>\n",
       "      <th>day_of_week</th>\n",
       "      <th>recd_month</th>\n",
       "      <th>consumer_summary_n_words</th>\n",
       "      <th>mean_word_len</th>\n",
       "      <th>num_unique_words</th>\n",
       "      <th>num_chars</th>\n",
       "      <th>num_punctuations</th>\n",
       "      <th>num_words_upper</th>\n",
       "      <th>num_words_title</th>\n",
       "    </tr>\n",
       "  </thead>\n",
       "  <tbody>\n",
       "    <tr>\n",
       "      <th>0</th>\n",
       "      <td>0</td>\n",
       "      <td>1</td>\n",
       "      <td>9</td>\n",
       "      <td>0</td>\n",
       "      <td>0</td>\n",
       "      <td>4</td>\n",
       "      <td>8</td>\n",
       "      <td>212</td>\n",
       "      <td>4.419811</td>\n",
       "      <td>108</td>\n",
       "      <td>1148</td>\n",
       "      <td>27</td>\n",
       "      <td>23</td>\n",
       "      <td>20</td>\n",
       "    </tr>\n",
       "  </tbody>\n",
       "</table>\n",
       "</div>"
      ],
      "text/plain": [
       "   Transaction-Type  Complaint-reason  Company-response  Consumer-disputes  \\\n",
       "0                 0                 1                 9                  0   \n",
       "\n",
       "   diff_days  day_of_week  recd_month  consumer_summary_n_words  \\\n",
       "0          0            4           8                       212   \n",
       "\n",
       "   mean_word_len  num_unique_words  num_chars  num_punctuations  \\\n",
       "0       4.419811               108       1148                27   \n",
       "\n",
       "   num_words_upper  num_words_title  \n",
       "0               23               20  "
      ]
     },
     "execution_count": 33,
     "metadata": {},
     "output_type": "execute_result"
    }
   ],
   "source": [
    "print(X_test.shape)\n",
    "X_test.head(1)"
   ]
  },
  {
   "cell_type": "code",
   "execution_count": 34,
   "metadata": {},
   "outputs": [],
   "source": [
    "from scipy.sparse import hstack, vstack, csr_matrix"
   ]
  },
  {
   "cell_type": "code",
   "execution_count": 35,
   "metadata": {},
   "outputs": [],
   "source": [
    "feat_train = csr_matrix(X_train.values)\n",
    "feat_test = csr_matrix(X_test.values)"
   ]
  },
  {
   "cell_type": "code",
   "execution_count": 36,
   "metadata": {},
   "outputs": [],
   "source": [
    "X_train_stack = hstack([feat_train, features[0:feat_train.shape[0]]])\n",
    "X_test_stack = hstack([feat_test, test_features[0:feat_test.shape[0]]])"
   ]
  },
  {
   "cell_type": "code",
   "execution_count": 37,
   "metadata": {},
   "outputs": [
    {
     "name": "stdout",
     "output_type": "stream",
     "text": [
      "Train shape:  (52232, 1068460) \n",
      "\n",
      "Test Shape:  (18543, 1068460)\n"
     ]
    }
   ],
   "source": [
    "print('Train shape: ', X_train_stack.shape, '\\n\\nTest Shape: ', X_test_stack.shape)"
   ]
  },
  {
   "cell_type": "code",
   "execution_count": 38,
   "metadata": {},
   "outputs": [],
   "source": [
    "\"\"\"Running the model on oversampled dataset to check the model's prediction level for the lower-occurring classes.\n",
    "This may not work everytime. Also assumption: ~1% greater f1-score because of the repetition of the training data in test\n",
    "data, but only 1% because split is 80-20 and other classes are really low in number. Cross-validation on oversampled dataset\n",
    "is not the best of practices and may lead to misleading validation scores.\"\"\"\n",
    "\n",
    "import lightgbm as lgb\n",
    "\n",
    "model=lgb.LGBMClassifier()\n",
    "X_train, X_test, y_train, y_test, indices_train, indices_test = train_test_split(X_train_stack, labels, X_train.index, test_size=0.2, random_state=0)\n",
    "model.fit(X_train, y_train)\n",
    "y_pred = model.predict(X_test)"
   ]
  },
  {
   "cell_type": "code",
   "execution_count": 39,
   "metadata": {},
   "outputs": [
    {
     "data": {
      "text/plain": [
       "0.7707613959380252"
      ]
     },
     "execution_count": 39,
     "metadata": {},
     "output_type": "execute_result"
    }
   ],
   "source": [
    "f1_score(y_pred,y_test,average='weighted')"
   ]
  },
  {
   "cell_type": "code",
   "execution_count": 40,
   "metadata": {},
   "outputs": [
    {
     "name": "stderr",
     "output_type": "stream",
     "text": [
      "C:\\Users\\dutta\\Anaconda3\\lib\\site-packages\\lightgbm\\basic.py:469: UserWarning: Converting data to scipy sparse matrix.\n",
      "  warnings.warn('Converting data to scipy sparse matrix.')\n"
     ]
    }
   ],
   "source": [
    "model.fit(X_train_stack,labels)\n",
    "final_preds=model.predict(X_test_stack)"
   ]
  },
  {
   "cell_type": "code",
   "execution_count": 41,
   "metadata": {},
   "outputs": [],
   "source": [
    "Test=pd.read_csv('converted_data_test.csv')\n",
    "Test=Test[['Complaint-ID','converted_text']]\n",
    "Test['Complaint-Status']=final_preds\n",
    "num_map = {0:'Closed with explanation', 1:'Closed with non-monetary relief',2:'Closed',3:'Closed with monetary relief'\\\n",
    "          ,4:'Untimely Response'}\n",
    "\n",
    "Test['Complaint-Status'] = Test['Complaint-Status'].map(num_map)"
   ]
  },
  {
   "cell_type": "code",
   "execution_count": 42,
   "metadata": {},
   "outputs": [],
   "source": [
    "Test.drop(['converted_text'],axis=1,inplace=True)"
   ]
  },
  {
   "cell_type": "code",
   "execution_count": 43,
   "metadata": {},
   "outputs": [
    {
     "data": {
      "text/plain": [
       "Series([], Name: Complaint-Status, dtype: int64)"
      ]
     },
     "execution_count": 43,
     "metadata": {},
     "output_type": "execute_result"
    }
   ],
   "source": [
    "Test['Complaint-Status'].value_counts()"
   ]
  },
  {
   "cell_type": "code",
   "execution_count": 44,
   "metadata": {},
   "outputs": [],
   "source": [
    "Test.to_csv('submission_file_lgb.csv',index=False)"
   ]
  },
  {
   "cell_type": "code",
   "execution_count": null,
   "metadata": {},
   "outputs": [],
   "source": []
  }
 ],
 "metadata": {
  "kernelspec": {
   "display_name": "Python 3",
   "language": "python",
   "name": "python3"
  },
  "language_info": {
   "codemirror_mode": {
    "name": "ipython",
    "version": 3
   },
   "file_extension": ".py",
   "mimetype": "text/x-python",
   "name": "python",
   "nbconvert_exporter": "python",
   "pygments_lexer": "ipython3",
   "version": "3.7.0"
  }
 },
 "nbformat": 4,
 "nbformat_minor": 2
}
